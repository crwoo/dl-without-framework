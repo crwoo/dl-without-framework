{
  "nbformat": 4,
  "nbformat_minor": 0,
  "metadata": {
    "colab": {
      "name": "slp-regression.ipynb",
      "provenance": [],
      "collapsed_sections": [],
      "toc_visible": true,
      "mount_file_id": "1Y2_lTEXbDoiUdwHzkSz-ntAwjAX_Hky4",
      "authorship_tag": "ABX9TyO9ZWrsFOs4XAYLB5ZR1BWH",
      "include_colab_link": true
    },
    "kernelspec": {
      "name": "python3",
      "display_name": "Python 3"
    }
  },
  "cells": [
    {
      "cell_type": "markdown",
      "metadata": {
        "id": "view-in-github",
        "colab_type": "text"
      },
      "source": [
        "<a href=\"https://colab.research.google.com/github/crwoo/dl-without-framework/blob/main/codes/slp_regression.ipynb\" target=\"_parent\"><img src=\"https://colab.research.google.com/assets/colab-badge.svg\" alt=\"Open In Colab\"/></a>"
      ]
    },
    {
      "cell_type": "markdown",
      "metadata": {
        "id": "ehJasjtNYx56"
      },
      "source": [
        "1. 회귀분석: 전복의 고리 수 추정 신경망"
      ]
    },
    {
      "cell_type": "code",
      "metadata": {
        "colab": {
          "base_uri": "https://localhost:8080/"
        },
        "id": "aiJ9Kkse0mxa",
        "outputId": "ec6d82af-498b-4210-861a-fbc0c58311c4"
      },
      "source": [
        "from google.colab import drive\n",
        "drive.mount('/content/drive')"
      ],
      "execution_count": null,
      "outputs": [
        {
          "output_type": "stream",
          "text": [
            "Drive already mounted at /content/drive; to attempt to forcibly remount, call drive.mount(\"/content/drive\", force_remount=True).\n"
          ],
          "name": "stdout"
        }
      ]
    },
    {
      "cell_type": "code",
      "metadata": {
        "colab": {
          "base_uri": "https://localhost:8080/"
        },
        "id": "ecuDBCQd3Dkn",
        "outputId": "355886ae-070e-4d85-c295-e105ad1b8ccf"
      },
      "source": [
        "import numpy as np\r\n",
        "import csv\r\n",
        "import time\r\n",
        "\r\n",
        "#하이퍼 파라미터 값\r\n",
        "RND_MEAN = 0\r\n",
        "RND_STD = 0.0030\r\n",
        "LEARNING_RATE = 0.001\r\n",
        "\r\n",
        "#path\r\n",
        "FILE_PATH = '/content/drive/MyDrive/ml-without-framework/data/abalone.csv'"
      ],
      "execution_count": null,
      "outputs": [
        {
          "output_type": "stream",
          "text": [
            "<_csv.reader object at 0x7fcaf635a828>\n"
          ],
          "name": "stdout"
        }
      ]
    },
    {
      "cell_type": "code",
      "metadata": {
        "colab": {
          "base_uri": "https://localhost:8080/"
        },
        "id": "_gX6eYxeyOen",
        "outputId": "0eed09f1-be8c-41eb-e882-31f344d70bb8"
      },
      "source": [
        "#데이터 확인\r\n",
        "import pandas as pd\r\n",
        "\r\n",
        "data_frame = pd.read_csv(FILE_PATH)\r\n",
        "#[4177 rows x 9 columns]\r\n",
        "#print(data_frame.head)\r\n",
        "#print(data_frame.columns)\r\n",
        "#Index(['Sex', 'Length', 'Diameter', 'Height', 'Whole weight', 'Shucked weight','Viscera weight', 'Shell weight', 'Rings'], dtype='object')\r\n",
        "print(data_frame.info())\r\n",
        "print(data_frame.head(5))"
      ],
      "execution_count": 31,
      "outputs": [
        {
          "output_type": "stream",
          "text": [
            "<class 'pandas.core.frame.DataFrame'>\n",
            "RangeIndex: 4177 entries, 0 to 4176\n",
            "Data columns (total 9 columns):\n",
            " #   Column          Non-Null Count  Dtype  \n",
            "---  ------          --------------  -----  \n",
            " 0   Sex             4177 non-null   object \n",
            " 1   Length          4177 non-null   float64\n",
            " 2   Diameter        4177 non-null   float64\n",
            " 3   Height          4177 non-null   float64\n",
            " 4   Whole weight    4177 non-null   float64\n",
            " 5   Shucked weight  4177 non-null   float64\n",
            " 6   Viscera weight  4177 non-null   float64\n",
            " 7   Shell weight    4177 non-null   float64\n",
            " 8   Rings           4177 non-null   int64  \n",
            "dtypes: float64(7), int64(1), object(1)\n",
            "memory usage: 293.8+ KB\n",
            "None\n",
            "  Sex  Length  Diameter  ...  Viscera weight  Shell weight  Rings\n",
            "0   M   0.455     0.365  ...          0.1010         0.150     15\n",
            "1   M   0.350     0.265  ...          0.0485         0.070      7\n",
            "2   F   0.530     0.420  ...          0.1415         0.210      9\n",
            "3   M   0.440     0.365  ...          0.1140         0.155     10\n",
            "4   I   0.330     0.255  ...          0.0395         0.055      7\n",
            "\n",
            "[5 rows x 9 columns]\n"
          ],
          "name": "stdout"
        }
      ]
    },
    {
      "cell_type": "markdown",
      "metadata": {
        "id": "yytN8hJ9476K"
      },
      "source": [
        "* One-Hot encode\r\n",
        "  - Many machine learning algorithms cannot operate on label data directly. They require all input variables and output variables to be numeric.\r\n",
        "  - how to convert categorical data to Numerical data?\r\n",
        "    : Integer Encoding, One-Hot encoding\r\n",
        "    : The integer values have a natural ordered relationship between each other and machine learning algorithms may be able to understand and harness this relationship.\r\n",
        "    : For example, ordinal variables like the “place” example above would be a good example where a label encoding would be sufficient.\r\n",
        "  - For categorical variables where no such ordinal relationship exists, the integer encoding is not enough."
      ]
    },
    {
      "cell_type": "code",
      "metadata": {
        "id": "Illmxlvf6vdb"
      },
      "source": [
        "#메인함수"
      ],
      "execution_count": null,
      "outputs": []
    },
    {
      "cell_type": "code",
      "metadata": {
        "id": "I5G7B-XQ6yM5"
      },
      "source": [
        "#데이터 로드\r\n",
        "def load_row_dataset(file_path):\r\n",
        "    with open(file_path) as csvfile:\r\n",
        "        csvreader = csv.reader(csvfile)\r\n",
        "        next(csvreader, None)\r\n",
        "        rows = []\r\n",
        "        for row in csvreader:\r\n",
        "            rows.append(row)\r\n",
        "            \r\n",
        "    global data, input_cnt, output_cnt\r\n",
        "    input_cnt, output_cnt = 10, 1\r\n",
        "    data = np.zeros([len(rows), input_cnt+output_cnt])\r\n",
        "\r\n",
        "    #one-hot encode\r\n",
        "    for n, row in enumerate(rows):\r\n",
        "        if row[0] == 'I': data[n, 0] = 1\r\n",
        "        if row[0] == 'M': data[n, 1] = 1\r\n",
        "        if row[0] == 'F': data[n, 2] = 1\r\n",
        "        data[n, 3:] = row[1:]\r\n",
        "    return csvreader"
      ],
      "execution_count": null,
      "outputs": []
    },
    {
      "cell_type": "code",
      "metadata": {
        "id": "KD4svia-gXLY"
      },
      "source": [
        ""
      ],
      "execution_count": null,
      "outputs": []
    }
  ]
}